{
 "cells": [
  {
   "cell_type": "code",
   "execution_count": 1,
   "metadata": {
    "collapsed": true
   },
   "outputs": [],
   "source": [
    "import boto3\n",
    "import re\n",
    "import json\n",
    "import os"
   ]
  },
  {
   "cell_type": "markdown",
   "source": [
    "### Import template json file"
   ],
   "metadata": {
    "collapsed": false,
    "pycharm": {
     "name": "#%% md\n"
    }
   }
  },
  {
   "cell_type": "code",
   "execution_count": 2,
   "outputs": [],
   "source": [
    "save_path = 'templates/wind_default'\n",
    "tem = json.load(open(os.path.join(save_path, 'template.json')))"
   ],
   "metadata": {
    "collapsed": false,
    "pycharm": {
     "name": "#%%\n"
    }
   }
  },
  {
   "cell_type": "code",
   "execution_count": 3,
   "outputs": [
    {
     "data": {
      "text/plain": "'wind_default'"
     },
     "execution_count": 3,
     "metadata": {},
     "output_type": "execute_result"
    }
   ],
   "source": [
    "template_name = tem['name']\n",
    "template_name"
   ],
   "metadata": {
    "collapsed": false,
    "pycharm": {
     "name": "#%%\n"
    }
   }
  },
  {
   "cell_type": "markdown",
   "source": [
    "### List Sections (for reference)"
   ],
   "metadata": {
    "collapsed": false,
    "pycharm": {
     "name": "#%% md\n"
    }
   }
  },
  {
   "cell_type": "code",
   "execution_count": 4,
   "outputs": [
    {
     "data": {
      "text/plain": "['',\n 's3://lre-report-api.s3.amazonaws.com/templates/wind_default/sections/section_cover.html',\n '',\n 's3://lre-report-api.s3.amazonaws.com/templates/wind_default/sections/section_toc.html',\n 's3://lre-report-api.s3.amazonaws.com/templates/wind_default/sections/section_1_exec_summary.html',\n 's3://lre-report-api.s3.amazonaws.com/templates/wind_default/sections/generic_caption.html',\n 's3://lre-report-api.s3.amazonaws.com/templates/wind_default/sections/table_kpi_summary.html',\n 's3://lre-report-api.s3.amazonaws.com/templates/wind_default/sections/dynamic_table.html',\n 's3://lre-report-api.s3.amazonaws.com/templates/wind_default/sections/section_2_ops_management.html',\n 's3://lre-report-api.s3.amazonaws.com/templates/wind_default/sections/table_key_initiatives.html',\n 's3://lre-report-api.s3.amazonaws.com/templates/wind_default/sections/section_3_safety.html',\n 's3://lre-report-api.s3.amazonaws.com/templates/wind_default/sections/table_safety.html',\n 's3://lre-report-api.s3.amazonaws.com/templates/wind_default/sections/section_3_safety_text.html',\n 's3://lre-report-api.s3.amazonaws.com/templates/wind_default/sections/section_4_financial_performance.html',\n 's3://lre-report-api.s3.amazonaws.com/templates/wind_default/sections/table_mtd_financials.html',\n 's3://lre-report-api.s3.amazonaws.com/templates/wind_default/sections/table_ytd_financials.html',\n 's3://lre-report-api.s3.amazonaws.com/templates/wind_default/sections/table_rec_summary.html',\n 's3://lre-report-api.s3.amazonaws.com/templates/wind_default/sections/section_5_site_performance.html',\n 's3://lre-report-api.s3.amazonaws.com/templates/wind_default/sections/table_site_summary.html',\n 's3://lre-report-api.s3.amazonaws.com/templates/wind_default/sections/table_lost_energy.html',\n 's3://lre-report-api.s3.amazonaws.com/templates/wind_default/sections/caption_figure_5.1.html',\n '',\n 's3://lre-report-api.s3.amazonaws.com/templates/wind_default/sections/caption_figure_5.2.html',\n '',\n 's3://lre-report-api.s3.amazonaws.com/templates/wind_default/sections/section_6_turbine_performance.html',\n 's3://lre-report-api.s3.amazonaws.com/templates/wind_default/sections/table_turbine_perf.html',\n 's3://lre-report-api.s3.amazonaws.com/templates/wind_default/sections/table_off_curtail.html',\n 's3://lre-report-api.s3.amazonaws.com/templates/wind_default/sections/table_fault_summary.html',\n 's3://lre-report-api.s3.amazonaws.com/templates/wind_default/sections/section_7_balance_of_plant.html',\n 's3://lre-report-api.s3.amazonaws.com/templates/wind_default/sections/table_bop_out.html',\n 's3://lre-report-api.s3.amazonaws.com/templates/wind_default/sections/table_grid_curtailment.html',\n 's3://lre-report-api.s3.amazonaws.com/templates/wind_default/sections/section_8_planned maintenance.html',\n 's3://lre-report-api.s3.amazonaws.com/templates/wind_default/sections/table_maintenance_log.html',\n 's3://lre-report-api.s3.amazonaws.com/templates/wind_default/sections/section_9_compliance.html',\n 's3://lre-report-api.s3.amazonaws.com/templates/wind_default/sections/table_compliance_log.html',\n 's3://lre-report-api.s3.amazonaws.com/templates/wind_default/sections/section_10_definitions.html']"
     },
     "execution_count": 4,
     "metadata": {},
     "output_type": "execute_result"
    }
   ],
   "source": [
    "sections_list = [p['sections'] for p in tem['pages']]\n",
    "sections = [x for xs in sections_list for x in xs]\n",
    "html_list = [x['html'] for x in [item for sublist in sections_list for item in sublist]]\n",
    "#html_names = [re.match('.*sections/(.*html)', x).group(1) for x in html_list]\n",
    "html_list"
   ],
   "metadata": {
    "collapsed": false,
    "pycharm": {
     "name": "#%%\n"
    }
   }
  },
  {
   "cell_type": "markdown",
   "source": [
    "### Upload Template Files to S3"
   ],
   "metadata": {
    "collapsed": false,
    "pycharm": {
     "name": "#%% md\n"
    }
   }
  },
  {
   "cell_type": "code",
   "execution_count": 6,
   "outputs": [
    {
     "name": "stdout",
     "output_type": "stream",
     "text": [
      "None\n",
      "None\n",
      "None\n",
      "None\n",
      "None\n",
      "None\n",
      "None\n",
      "None\n",
      "None\n",
      "None\n",
      "None\n",
      "None\n",
      "None\n",
      "None\n",
      "None\n",
      "None\n",
      "None\n",
      "None\n",
      "None\n",
      "None\n",
      "None\n",
      "None\n",
      "None\n",
      "None\n",
      "None\n",
      "None\n",
      "None\n",
      "None\n",
      "None\n",
      "None\n"
     ]
    }
   ],
   "source": [
    "s3 = boto3.client('s3')\n",
    "dirlist = os.path.join(save_path, 'sections')\n",
    "bucket = 'lre-report-api'\n",
    "key_path = 'templates/' + template_name + '/sections/'\n",
    "for file in os.listdir(dirlist):\n",
    "    if file.endswith('.html'):\n",
    "        #print(os.path.join(dirlist, file))\n",
    "        response = s3.upload_file(os.path.join(dirlist, file), bucket, key_path + file)\n",
    "        print(response)\n",
    "# upload template file\n",
    "response = s3.upload_file(os.path.join(save_path, 'template.json'), bucket, 'templates/' + template_name + '/template'\n",
    "                                                                                                           '.json')"
   ],
   "metadata": {
    "collapsed": false,
    "pycharm": {
     "name": "#%%\n"
    }
   }
  },
  {
   "cell_type": "markdown",
   "source": [
    "### Upload CSS to S3"
   ],
   "metadata": {
    "collapsed": false,
    "pycharm": {
     "name": "#%% md\n"
    }
   }
  },
  {
   "cell_type": "code",
   "execution_count": 8,
   "outputs": [],
   "source": [
    "s3 = boto3.client('s3')\n",
    "dirlist = 'css/custom_main.css'\n",
    "bucket = 'lre-reporting-module-web-app'\n",
    "key_path = 'css/custom_main.css'\n",
    "\n",
    "# upload template file\n",
    "response = s3.upload_file(dirlist, bucket, key_path)\n",
    "response"
   ],
   "metadata": {
    "collapsed": false,
    "pycharm": {
     "name": "#%%\n"
    }
   }
  },
  {
   "cell_type": "markdown",
   "source": [
    "## Scratch Below This:"
   ],
   "metadata": {
    "collapsed": false,
    "pycharm": {
     "name": "#%% md\n"
    }
   }
  },
  {
   "cell_type": "markdown",
   "source": [
    "### Loop through each section. If section is dynamic table render html"
   ],
   "metadata": {
    "collapsed": false
   }
  },
  {
   "cell_type": "code",
   "execution_count": null,
   "outputs": [],
   "source": [
    "table_dict = {}\n",
    "for sec in sections:\n",
    "    if re.match('^dynamic table:', sec['name']):\n",
    "        #print(sec['name'])\n",
    "        head = re.match('^dynamic table: (.*)', sec['name']).group(1)\n",
    "        name = re.match('.*sections/(.*)', sec['html']).group(1)\n",
    "        table_dict[head] = name\n",
    "table_dict"
   ],
   "metadata": {
    "collapsed": false,
    "pycharm": {
     "name": "#%%\n"
    }
   }
  },
  {
   "cell_type": "markdown",
   "source": [
    "### Create dynamic table html"
   ],
   "metadata": {
    "collapsed": false
   }
  },
  {
   "cell_type": "code",
   "execution_count": 109,
   "outputs": [],
   "source": [
    "html_path = 'templates/unrendered'\n",
    "html_name = 'dynamic_table_w_heading.html'\n",
    "f = open(os.path.join(html_path, html_name), \"r\")\n",
    "html_text = f.read()\n",
    "for h, v in table_dict.items():\n",
    "    updated_html = html_text.replace('{{heading}}', h)\n",
    "    new_file = open(os.path.join(save_path, 'sections', v), \"w\")\n",
    "    new_file.write(updated_html)\n",
    "    new_file.close()\n",
    "f.close()"
   ],
   "metadata": {
    "collapsed": false,
    "pycharm": {
     "name": "#%%\n"
    }
   }
  },
  {
   "cell_type": "markdown",
   "source": [
    "### Check template against sections folder"
   ],
   "metadata": {
    "collapsed": false
   }
  },
  {
   "cell_type": "code",
   "execution_count": 111,
   "outputs": [
    {
     "data": {
      "text/plain": "['table_mtd_financials.html',\n 'caption_figure_5.1.html',\n 'caption_figure5.2.html',\n 'section_6_turbine_performance.html',\n 'section_7_balance of plant.html',\n 'section_8_planned maintenance.html',\n 'section_9_compliance.html']"
     },
     "execution_count": 111,
     "metadata": {},
     "output_type": "execute_result"
    }
   ],
   "source": [
    "expected_html = {}\n",
    "for x in html_list:\n",
    "    try:\n",
    "        html = re.match('.*sections/(.*)', x).group(1)\n",
    "        exists = os.path.exists(os.path.join(save_path, 'sections', html))\n",
    "        expected_html[html] = exists\n",
    "    except AttributeError:\n",
    "        pass\n",
    "[x for x,v in expected_html.items() if v==False]"
   ],
   "metadata": {
    "collapsed": false,
    "pycharm": {
     "name": "#%%\n"
    }
   }
  },
  {
   "cell_type": "markdown",
   "source": [
    "### Upload Test Data"
   ],
   "metadata": {
    "collapsed": false
   }
  },
  {
   "cell_type": "code",
   "execution_count": 135,
   "outputs": [
    {
     "name": "stdout",
     "output_type": "stream",
     "text": [
      "None\n",
      "None\n",
      "None\n",
      "None\n",
      "None\n",
      "None\n",
      "None\n",
      "None\n",
      "None\n",
      "None\n",
      "None\n",
      "None\n",
      "None\n",
      "None\n",
      "None\n"
     ]
    }
   ],
   "source": [
    "s3 = boto3.client('s3')\n",
    "dirlist = os.path.join(save_path, 'data')\n",
    "bucket = 'lre-report-api'\n",
    "key_path = 'reports/monthly operating/milford 1/2022/05/data/'\n",
    "for file in os.listdir(dirlist):\n",
    "    if (file.endswith('.csv')) or (file.endswith('.png')):\n",
    "        #print(os.path.join(dirlist, file))\n",
    "        response = s3.upload_file(os.path.join(dirlist, file), bucket, key_path + file)\n",
    "        print(response)\n"
   ],
   "metadata": {
    "collapsed": false,
    "pycharm": {
     "name": "#%%\n"
    }
   }
  },
  {
   "cell_type": "code",
   "execution_count": 18,
   "outputs": [
    {
     "ename": "ModuleNotFoundError",
     "evalue": "No module named 'pandas'",
     "output_type": "error",
     "traceback": [
      "\u001B[1;31m---------------------------------------------------------------------------\u001B[0m",
      "\u001B[1;31mModuleNotFoundError\u001B[0m                       Traceback (most recent call last)",
      "\u001B[1;32m~\\AppData\\Local\\Temp\\ipykernel_4920\\4080736814.py\u001B[0m in \u001B[0;36m<module>\u001B[1;34m\u001B[0m\n\u001B[1;32m----> 1\u001B[1;33m \u001B[1;32mimport\u001B[0m \u001B[0mpandas\u001B[0m \u001B[1;32mas\u001B[0m \u001B[0mpd\u001B[0m\u001B[1;33m\u001B[0m\u001B[1;33m\u001B[0m\u001B[0m\n\u001B[0m",
      "\u001B[1;31mModuleNotFoundError\u001B[0m: No module named 'pandas'"
     ]
    }
   ],
   "source": [
    "\n"
   ],
   "metadata": {
    "collapsed": false,
    "pycharm": {
     "name": "#%%\n"
    }
   }
  },
  {
   "cell_type": "code",
   "execution_count": null,
   "outputs": [],
   "source": [],
   "metadata": {
    "collapsed": false,
    "pycharm": {
     "name": "#%%\n"
    }
   }
  }
 ],
 "metadata": {
  "kernelspec": {
   "display_name": "Python 3",
   "language": "python",
   "name": "python3"
  },
  "language_info": {
   "codemirror_mode": {
    "name": "ipython",
    "version": 2
   },
   "file_extension": ".py",
   "mimetype": "text/x-python",
   "name": "python",
   "nbconvert_exporter": "python",
   "pygments_lexer": "ipython2",
   "version": "2.7.6"
  }
 },
 "nbformat": 4,
 "nbformat_minor": 0
}